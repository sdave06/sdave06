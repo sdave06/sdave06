{
  "metadata": {
    "language_info": {
      "codemirror_mode": {
        "name": "python",
        "version": 3
      },
      "file_extension": ".py",
      "mimetype": "text/x-python",
      "name": "python",
      "nbconvert_exporter": "python",
      "pygments_lexer": "ipython3",
      "version": "3.8"
    },
    "kernelspec": {
      "name": "python",
      "display_name": "Python (Pyodide)",
      "language": "python"
    }
  },
  "nbformat_minor": 4,
  "nbformat": 4,
  "cells": [
    {
      "cell_type": "code",
      "source": "import pandas as pd\nimport numpy as np\nfrom csv import writer\n\ndata = pd.read_csv(\"kpop idols.csv\")\ndisplay(data)",
      "metadata": {
        "trusted": true
      },
      "execution_count": 33,
      "outputs": [
        {
          "output_type": "display_data",
          "data": {
            "text/plain": "     Stage Name      Full Name  Korean Name  K. Stage Name Date of Birth   \\\n0        Taeyeon    Kim Taeyeon          김태연            태연       3/9/1989   \n1          Sunny     Lee Sunkyu          이순규            써니      5/15/1989   \n2        Tiffany  Hwang Miyoung          황미영           티파니       8/1/1989   \n3        Hyoyeon    Kim Hyoyeon          김효연            효연      9/22/1989   \n4           Yuri      Kwon Yuri          권유리            유리      12/5/1989   \n...          ...            ...          ...           ...            ...   \n1661       Minji      Kim Minji          김민지            민지       5/7/2004   \n1662       Hanni  Pham Ngoc Han         팜응옥헌            하니      10/6/2004   \n1663    Danielle       Mo Jihye          모지혜           다니엘      4/11/2005   \n1664      Haerin    Kang Haerin          강해린            해린      5/15/2006   \n1665       Hyein      Lee Hyein          이혜인            혜인      4/21/2008   \n\n        Group      Country   Height   Weight    Birthplace  Gender   \\\n0         SNSD  South Korea      160      44         Jeonju       F   \n1         SNSD  South Korea      158      43     California       F   \n2         SNSD  South Korea      163      50  San Francisco       F   \n3         SNSD  South Korea      158      48        Incheon       F   \n4         SNSD  South Korea      167      45         Goyang       F   \n...        ...          ...      ...     ...            ...     ...   \n1661  NewJeans  South Korea      169       0       Yeongwol       F   \n1662  NewJeans      Vietnam      162       0      Melbourne       F   \n1663  NewJeans  South Korea      165       0         Munsan       F   \n1664  NewJeans  South Korea      165       0       Gimcheon       F   \n1665  NewJeans  South Korea      170       0        Incheon       F   \n\n         Instagram  \n0       taeyeon_ss  \n1       svnnynight  \n2     xolovestephi  \n3      watasiwahyo  \n4          yulyulk  \n...            ...  \n1661           NaN  \n1662           NaN  \n1663           NaN  \n1664           NaN  \n1665           NaN  \n\n[1666 rows x 12 columns]",
            "text/html": "<div>\n<style scoped>\n    .dataframe tbody tr th:only-of-type {\n        vertical-align: middle;\n    }\n\n    .dataframe tbody tr th {\n        vertical-align: top;\n    }\n\n    .dataframe thead th {\n        text-align: right;\n    }\n</style>\n<table border=\"1\" class=\"dataframe\">\n  <thead>\n    <tr style=\"text-align: right;\">\n      <th></th>\n      <th>Stage Name</th>\n      <th>Full Name</th>\n      <th>Korean Name</th>\n      <th>K. Stage Name</th>\n      <th>Date of Birth</th>\n      <th>Group</th>\n      <th>Country</th>\n      <th>Height</th>\n      <th>Weight</th>\n      <th>Birthplace</th>\n      <th>Gender</th>\n      <th>Instagram</th>\n    </tr>\n  </thead>\n  <tbody>\n    <tr>\n      <th>0</th>\n      <td>Taeyeon</td>\n      <td>Kim Taeyeon</td>\n      <td>김태연</td>\n      <td>태연</td>\n      <td>3/9/1989</td>\n      <td>SNSD</td>\n      <td>South Korea</td>\n      <td>160</td>\n      <td>44</td>\n      <td>Jeonju</td>\n      <td>F</td>\n      <td>taeyeon_ss</td>\n    </tr>\n    <tr>\n      <th>1</th>\n      <td>Sunny</td>\n      <td>Lee Sunkyu</td>\n      <td>이순규</td>\n      <td>써니</td>\n      <td>5/15/1989</td>\n      <td>SNSD</td>\n      <td>South Korea</td>\n      <td>158</td>\n      <td>43</td>\n      <td>California</td>\n      <td>F</td>\n      <td>svnnynight</td>\n    </tr>\n    <tr>\n      <th>2</th>\n      <td>Tiffany</td>\n      <td>Hwang Miyoung</td>\n      <td>황미영</td>\n      <td>티파니</td>\n      <td>8/1/1989</td>\n      <td>SNSD</td>\n      <td>South Korea</td>\n      <td>163</td>\n      <td>50</td>\n      <td>San Francisco</td>\n      <td>F</td>\n      <td>xolovestephi</td>\n    </tr>\n    <tr>\n      <th>3</th>\n      <td>Hyoyeon</td>\n      <td>Kim Hyoyeon</td>\n      <td>김효연</td>\n      <td>효연</td>\n      <td>9/22/1989</td>\n      <td>SNSD</td>\n      <td>South Korea</td>\n      <td>158</td>\n      <td>48</td>\n      <td>Incheon</td>\n      <td>F</td>\n      <td>watasiwahyo</td>\n    </tr>\n    <tr>\n      <th>4</th>\n      <td>Yuri</td>\n      <td>Kwon Yuri</td>\n      <td>권유리</td>\n      <td>유리</td>\n      <td>12/5/1989</td>\n      <td>SNSD</td>\n      <td>South Korea</td>\n      <td>167</td>\n      <td>45</td>\n      <td>Goyang</td>\n      <td>F</td>\n      <td>yulyulk</td>\n    </tr>\n    <tr>\n      <th>...</th>\n      <td>...</td>\n      <td>...</td>\n      <td>...</td>\n      <td>...</td>\n      <td>...</td>\n      <td>...</td>\n      <td>...</td>\n      <td>...</td>\n      <td>...</td>\n      <td>...</td>\n      <td>...</td>\n      <td>...</td>\n    </tr>\n    <tr>\n      <th>1661</th>\n      <td>Minji</td>\n      <td>Kim Minji</td>\n      <td>김민지</td>\n      <td>민지</td>\n      <td>5/7/2004</td>\n      <td>NewJeans</td>\n      <td>South Korea</td>\n      <td>169</td>\n      <td>0</td>\n      <td>Yeongwol</td>\n      <td>F</td>\n      <td>NaN</td>\n    </tr>\n    <tr>\n      <th>1662</th>\n      <td>Hanni</td>\n      <td>Pham Ngoc Han</td>\n      <td>팜응옥헌</td>\n      <td>하니</td>\n      <td>10/6/2004</td>\n      <td>NewJeans</td>\n      <td>Vietnam</td>\n      <td>162</td>\n      <td>0</td>\n      <td>Melbourne</td>\n      <td>F</td>\n      <td>NaN</td>\n    </tr>\n    <tr>\n      <th>1663</th>\n      <td>Danielle</td>\n      <td>Mo Jihye</td>\n      <td>모지혜</td>\n      <td>다니엘</td>\n      <td>4/11/2005</td>\n      <td>NewJeans</td>\n      <td>South Korea</td>\n      <td>165</td>\n      <td>0</td>\n      <td>Munsan</td>\n      <td>F</td>\n      <td>NaN</td>\n    </tr>\n    <tr>\n      <th>1664</th>\n      <td>Haerin</td>\n      <td>Kang Haerin</td>\n      <td>강해린</td>\n      <td>해린</td>\n      <td>5/15/2006</td>\n      <td>NewJeans</td>\n      <td>South Korea</td>\n      <td>165</td>\n      <td>0</td>\n      <td>Gimcheon</td>\n      <td>F</td>\n      <td>NaN</td>\n    </tr>\n    <tr>\n      <th>1665</th>\n      <td>Hyein</td>\n      <td>Lee Hyein</td>\n      <td>이혜인</td>\n      <td>혜인</td>\n      <td>4/21/2008</td>\n      <td>NewJeans</td>\n      <td>South Korea</td>\n      <td>170</td>\n      <td>0</td>\n      <td>Incheon</td>\n      <td>F</td>\n      <td>NaN</td>\n    </tr>\n  </tbody>\n</table>\n<p>1666 rows × 12 columns</p>\n</div>"
          },
          "metadata": {}
        }
      ]
    },
    {
      "cell_type": "code",
      "source": "data.isnull().sum()",
      "metadata": {
        "trusted": true
      },
      "execution_count": 4,
      "outputs": [
        {
          "execution_count": 4,
          "output_type": "execute_result",
          "data": {
            "text/plain": "Stage Name           0\nFull Name            7\nKorean Name          8\nK. Stage Name        1\nDate of Birth        0\nGroup              138\nCountry              0\nHeight               0\nWeight               0\nBirthplace         897\nGender               0\nInstagram         1510\ndtype: int64"
          },
          "metadata": {}
        }
      ]
    },
    {
      "cell_type": "code",
      "source": "data['Group '].unique",
      "metadata": {
        "trusted": true
      },
      "execution_count": 5,
      "outputs": [
        {
          "execution_count": 5,
          "output_type": "execute_result",
          "data": {
            "text/plain": "<bound method Series.unique of 0           SNSD\n1           SNSD\n2           SNSD\n3           SNSD\n4           SNSD\n          ...   \n1661    NewJeans\n1662    NewJeans\n1663    NewJeans\n1664    NewJeans\n1665    NewJeans\nName: Group , Length: 1666, dtype: object>"
          },
          "metadata": {}
        }
      ]
    },
    {
      "cell_type": "code",
      "source": "#new group\nng=data[data['Group ']=='DAY6']\ndisplay(ng)",
      "metadata": {
        "trusted": true
      },
      "execution_count": 36,
      "outputs": [
        {
          "output_type": "display_data",
          "data": {
            "text/plain": "    Stage Name        Full Name  Korean Name  K. Stage Name Date of Birth   \\\n523         Jae    Park Jaehyung          박제형            제이      9/15/1992   \n524     Sungjin     Park Sungjin          박성진            성진      1/16/1993   \n525     Young K  Kang Young-hyun          강영현           영케이     12/19/1993   \n526      Wonpil       Kim Wonpil          김원필            원필      4/28/1994   \n527      Dowoon      Yoon Dowoon          윤도운            도운      8/25/1995   \n\n    Group      Country   Height   Weight   Birthplace  Gender  Instagram  \n523   DAY6  South Korea        0       0  Buenos Aires       M       NaN  \n524   DAY6  South Korea        0       0           NaN       M       NaN  \n525   DAY6  South Korea        0       0           NaN       M       NaN  \n526   DAY6  South Korea        0       0           NaN       M       NaN  \n527   DAY6  South Korea        0       0           NaN       M       NaN  ",
            "text/html": "<div>\n<style scoped>\n    .dataframe tbody tr th:only-of-type {\n        vertical-align: middle;\n    }\n\n    .dataframe tbody tr th {\n        vertical-align: top;\n    }\n\n    .dataframe thead th {\n        text-align: right;\n    }\n</style>\n<table border=\"1\" class=\"dataframe\">\n  <thead>\n    <tr style=\"text-align: right;\">\n      <th></th>\n      <th>Stage Name</th>\n      <th>Full Name</th>\n      <th>Korean Name</th>\n      <th>K. Stage Name</th>\n      <th>Date of Birth</th>\n      <th>Group</th>\n      <th>Country</th>\n      <th>Height</th>\n      <th>Weight</th>\n      <th>Birthplace</th>\n      <th>Gender</th>\n      <th>Instagram</th>\n    </tr>\n  </thead>\n  <tbody>\n    <tr>\n      <th>523</th>\n      <td>Jae</td>\n      <td>Park Jaehyung</td>\n      <td>박제형</td>\n      <td>제이</td>\n      <td>9/15/1992</td>\n      <td>DAY6</td>\n      <td>South Korea</td>\n      <td>0</td>\n      <td>0</td>\n      <td>Buenos Aires</td>\n      <td>M</td>\n      <td>NaN</td>\n    </tr>\n    <tr>\n      <th>524</th>\n      <td>Sungjin</td>\n      <td>Park Sungjin</td>\n      <td>박성진</td>\n      <td>성진</td>\n      <td>1/16/1993</td>\n      <td>DAY6</td>\n      <td>South Korea</td>\n      <td>0</td>\n      <td>0</td>\n      <td>NaN</td>\n      <td>M</td>\n      <td>NaN</td>\n    </tr>\n    <tr>\n      <th>525</th>\n      <td>Young K</td>\n      <td>Kang Young-hyun</td>\n      <td>강영현</td>\n      <td>영케이</td>\n      <td>12/19/1993</td>\n      <td>DAY6</td>\n      <td>South Korea</td>\n      <td>0</td>\n      <td>0</td>\n      <td>NaN</td>\n      <td>M</td>\n      <td>NaN</td>\n    </tr>\n    <tr>\n      <th>526</th>\n      <td>Wonpil</td>\n      <td>Kim Wonpil</td>\n      <td>김원필</td>\n      <td>원필</td>\n      <td>4/28/1994</td>\n      <td>DAY6</td>\n      <td>South Korea</td>\n      <td>0</td>\n      <td>0</td>\n      <td>NaN</td>\n      <td>M</td>\n      <td>NaN</td>\n    </tr>\n    <tr>\n      <th>527</th>\n      <td>Dowoon</td>\n      <td>Yoon Dowoon</td>\n      <td>윤도운</td>\n      <td>도운</td>\n      <td>8/25/1995</td>\n      <td>DAY6</td>\n      <td>South Korea</td>\n      <td>0</td>\n      <td>0</td>\n      <td>NaN</td>\n      <td>M</td>\n      <td>NaN</td>\n    </tr>\n  </tbody>\n</table>\n</div>"
          },
          "metadata": {}
        }
      ]
    },
    {
      "cell_type": "code",
      "source": "fi=data[data['Country ']!='South Korea']\ndisplay(fi)",
      "metadata": {
        "trusted": true
      },
      "execution_count": 19,
      "outputs": [
        {
          "output_type": "display_data",
          "data": {
            "text/plain": "     Stage Name             Full Name  Korean Name  K. Stage Name  \\\n57           Fei           Wang FeiFei        왕페이페이            페이   \n58           Jia              Meng Jia          멍지아            지아   \n66          Momo            Hirai Momo       히라이 모모            모모   \n67          Sana       Minatozaki Sana     미나토자키 사나            사나   \n68          Mina            Myoui Mina        묘이 미나            미나   \n...          ...                   ...          ...           ...   \n1629      Kazuha       Nakamura Kazuha     나카무라 카즈하           카즈하   \n1636      Chanty  Maria Chantal Videla   마리아 샹탈 비델라            샨티   \n1637       Shana          Nonaka Shana       노나카 샤나            샤나   \n1638         Yue            Nancy Yang         낸시 양            유에   \n1662       Hanni         Pham Ngoc Han         팜응옥헌            하니   \n\n     Date of Birth        Group      Country   Height   Weight  Birthplace   \\\n57        4/27/1987       miss A        China      165       0       Haikou   \n58         2/3/1989       miss A        China      166       0      Changja   \n66        11/9/1996        Twice        Japan      167       0        Kyoto   \n67       12/29/1996        Twice        Japan      168       0        Osaka   \n68        3/24/1997        Twice        Japan      163       0  San Antonio   \n...             ...          ...          ...      ...     ...          ...   \n1629       8/9/2003  LE SSERAFIM        Japan      174       0        Osaka   \n1636     12/15/2002     Lapillus  Philippines      170       0       Manila   \n1637      3/13/2003     Lapillus        Japan      158       0        Kochi   \n1638       7/3/2004     Lapillus          USA      163      48          NaN   \n1662      10/6/2004     NewJeans      Vietnam      162       0    Melbourne   \n\n     Gender    Instagram  \n57         F      ff0427  \n58         F  mjbaby0203  \n66         F         NaN  \n67         F         NaN  \n68         F         NaN  \n...      ...         ...  \n1629       F         NaN  \n1636       F         NaN  \n1637       F         NaN  \n1638       F         NaN  \n1662       F         NaN  \n\n[160 rows x 12 columns]",
            "text/html": "<div>\n<style scoped>\n    .dataframe tbody tr th:only-of-type {\n        vertical-align: middle;\n    }\n\n    .dataframe tbody tr th {\n        vertical-align: top;\n    }\n\n    .dataframe thead th {\n        text-align: right;\n    }\n</style>\n<table border=\"1\" class=\"dataframe\">\n  <thead>\n    <tr style=\"text-align: right;\">\n      <th></th>\n      <th>Stage Name</th>\n      <th>Full Name</th>\n      <th>Korean Name</th>\n      <th>K. Stage Name</th>\n      <th>Date of Birth</th>\n      <th>Group</th>\n      <th>Country</th>\n      <th>Height</th>\n      <th>Weight</th>\n      <th>Birthplace</th>\n      <th>Gender</th>\n      <th>Instagram</th>\n    </tr>\n  </thead>\n  <tbody>\n    <tr>\n      <th>57</th>\n      <td>Fei</td>\n      <td>Wang FeiFei</td>\n      <td>왕페이페이</td>\n      <td>페이</td>\n      <td>4/27/1987</td>\n      <td>miss A</td>\n      <td>China</td>\n      <td>165</td>\n      <td>0</td>\n      <td>Haikou</td>\n      <td>F</td>\n      <td>ff0427</td>\n    </tr>\n    <tr>\n      <th>58</th>\n      <td>Jia</td>\n      <td>Meng Jia</td>\n      <td>멍지아</td>\n      <td>지아</td>\n      <td>2/3/1989</td>\n      <td>miss A</td>\n      <td>China</td>\n      <td>166</td>\n      <td>0</td>\n      <td>Changja</td>\n      <td>F</td>\n      <td>mjbaby0203</td>\n    </tr>\n    <tr>\n      <th>66</th>\n      <td>Momo</td>\n      <td>Hirai Momo</td>\n      <td>히라이 모모</td>\n      <td>모모</td>\n      <td>11/9/1996</td>\n      <td>Twice</td>\n      <td>Japan</td>\n      <td>167</td>\n      <td>0</td>\n      <td>Kyoto</td>\n      <td>F</td>\n      <td>NaN</td>\n    </tr>\n    <tr>\n      <th>67</th>\n      <td>Sana</td>\n      <td>Minatozaki Sana</td>\n      <td>미나토자키 사나</td>\n      <td>사나</td>\n      <td>12/29/1996</td>\n      <td>Twice</td>\n      <td>Japan</td>\n      <td>168</td>\n      <td>0</td>\n      <td>Osaka</td>\n      <td>F</td>\n      <td>NaN</td>\n    </tr>\n    <tr>\n      <th>68</th>\n      <td>Mina</td>\n      <td>Myoui Mina</td>\n      <td>묘이 미나</td>\n      <td>미나</td>\n      <td>3/24/1997</td>\n      <td>Twice</td>\n      <td>Japan</td>\n      <td>163</td>\n      <td>0</td>\n      <td>San Antonio</td>\n      <td>F</td>\n      <td>NaN</td>\n    </tr>\n    <tr>\n      <th>...</th>\n      <td>...</td>\n      <td>...</td>\n      <td>...</td>\n      <td>...</td>\n      <td>...</td>\n      <td>...</td>\n      <td>...</td>\n      <td>...</td>\n      <td>...</td>\n      <td>...</td>\n      <td>...</td>\n      <td>...</td>\n    </tr>\n    <tr>\n      <th>1629</th>\n      <td>Kazuha</td>\n      <td>Nakamura Kazuha</td>\n      <td>나카무라 카즈하</td>\n      <td>카즈하</td>\n      <td>8/9/2003</td>\n      <td>LE SSERAFIM</td>\n      <td>Japan</td>\n      <td>174</td>\n      <td>0</td>\n      <td>Osaka</td>\n      <td>F</td>\n      <td>NaN</td>\n    </tr>\n    <tr>\n      <th>1636</th>\n      <td>Chanty</td>\n      <td>Maria Chantal Videla</td>\n      <td>마리아 샹탈 비델라</td>\n      <td>샨티</td>\n      <td>12/15/2002</td>\n      <td>Lapillus</td>\n      <td>Philippines</td>\n      <td>170</td>\n      <td>0</td>\n      <td>Manila</td>\n      <td>F</td>\n      <td>NaN</td>\n    </tr>\n    <tr>\n      <th>1637</th>\n      <td>Shana</td>\n      <td>Nonaka Shana</td>\n      <td>노나카 샤나</td>\n      <td>샤나</td>\n      <td>3/13/2003</td>\n      <td>Lapillus</td>\n      <td>Japan</td>\n      <td>158</td>\n      <td>0</td>\n      <td>Kochi</td>\n      <td>F</td>\n      <td>NaN</td>\n    </tr>\n    <tr>\n      <th>1638</th>\n      <td>Yue</td>\n      <td>Nancy Yang</td>\n      <td>낸시 양</td>\n      <td>유에</td>\n      <td>7/3/2004</td>\n      <td>Lapillus</td>\n      <td>USA</td>\n      <td>163</td>\n      <td>48</td>\n      <td>NaN</td>\n      <td>F</td>\n      <td>NaN</td>\n    </tr>\n    <tr>\n      <th>1662</th>\n      <td>Hanni</td>\n      <td>Pham Ngoc Han</td>\n      <td>팜응옥헌</td>\n      <td>하니</td>\n      <td>10/6/2004</td>\n      <td>NewJeans</td>\n      <td>Vietnam</td>\n      <td>162</td>\n      <td>0</td>\n      <td>Melbourne</td>\n      <td>F</td>\n      <td>NaN</td>\n    </tr>\n  </tbody>\n</table>\n<p>160 rows × 12 columns</p>\n</div>"
          },
          "metadata": {}
        }
      ]
    },
    {
      "cell_type": "code",
      "source": "cn=fi[(fi['Country '] == 'Japan') & (fi['Group '] == 'Kep1er')]\ndisplay(cn)",
      "metadata": {
        "trusted": true
      },
      "execution_count": 20,
      "outputs": [
        {
          "output_type": "display_data",
          "data": {
            "text/plain": "     Stage Name         Full Name  Korean Name  K. Stage Name Date of Birth   \\\n1562     Mashiro  Sakamoto Mashiro     사카모토 마시로           마시로     12/16/1999   \n1563      Hikaru      Ezaki Hikaru      에자키 히카루           히카루      3/12/2004   \n\n      Group  Country   Height   Weight Birthplace  Gender  Instagram  \n1562  Kep1er    Japan      157       0         NaN       F       NaN  \n1563  Kep1er    Japan      155       0         NaN       F       NaN  ",
            "text/html": "<div>\n<style scoped>\n    .dataframe tbody tr th:only-of-type {\n        vertical-align: middle;\n    }\n\n    .dataframe tbody tr th {\n        vertical-align: top;\n    }\n\n    .dataframe thead th {\n        text-align: right;\n    }\n</style>\n<table border=\"1\" class=\"dataframe\">\n  <thead>\n    <tr style=\"text-align: right;\">\n      <th></th>\n      <th>Stage Name</th>\n      <th>Full Name</th>\n      <th>Korean Name</th>\n      <th>K. Stage Name</th>\n      <th>Date of Birth</th>\n      <th>Group</th>\n      <th>Country</th>\n      <th>Height</th>\n      <th>Weight</th>\n      <th>Birthplace</th>\n      <th>Gender</th>\n      <th>Instagram</th>\n    </tr>\n  </thead>\n  <tbody>\n    <tr>\n      <th>1562</th>\n      <td>Mashiro</td>\n      <td>Sakamoto Mashiro</td>\n      <td>사카모토 마시로</td>\n      <td>마시로</td>\n      <td>12/16/1999</td>\n      <td>Kep1er</td>\n      <td>Japan</td>\n      <td>157</td>\n      <td>0</td>\n      <td>NaN</td>\n      <td>F</td>\n      <td>NaN</td>\n    </tr>\n    <tr>\n      <th>1563</th>\n      <td>Hikaru</td>\n      <td>Ezaki Hikaru</td>\n      <td>에자키 히카루</td>\n      <td>히카루</td>\n      <td>3/12/2004</td>\n      <td>Kep1er</td>\n      <td>Japan</td>\n      <td>155</td>\n      <td>0</td>\n      <td>NaN</td>\n      <td>F</td>\n      <td>NaN</td>\n    </tr>\n  </tbody>\n</table>\n</div>"
          },
          "metadata": {}
        }
      ]
    },
    {
      "cell_type": "code",
      "source": "#females\ngg=data[data['Gender '] == 'F']\ngg.to_csv('girlgroups.csv')\ndisplay(gg)",
      "metadata": {
        "trusted": true
      },
      "execution_count": 9,
      "outputs": [
        {
          "output_type": "display_data",
          "data": {
            "text/plain": "     Stage Name      Full Name  Korean Name  K. Stage Name Date of Birth   \\\n0        Taeyeon    Kim Taeyeon          김태연            태연       3/9/1989   \n1          Sunny     Lee Sunkyu          이순규            써니      5/15/1989   \n2        Tiffany  Hwang Miyoung          황미영           티파니       8/1/1989   \n3        Hyoyeon    Kim Hyoyeon          김효연            효연      9/22/1989   \n4           Yuri      Kwon Yuri          권유리            유리      12/5/1989   \n...          ...            ...          ...           ...            ...   \n1661       Minji      Kim Minji          김민지            민지       5/7/2004   \n1662       Hanni  Pham Ngoc Han         팜응옥헌            하니      10/6/2004   \n1663    Danielle       Mo Jihye          모지혜           다니엘      4/11/2005   \n1664      Haerin    Kang Haerin          강해린            해린      5/15/2006   \n1665       Hyein      Lee Hyein          이혜인            혜인      4/21/2008   \n\n        Group      Country   Height   Weight    Birthplace  Gender   \\\n0         SNSD  South Korea      160      44         Jeonju       F   \n1         SNSD  South Korea      158      43     California       F   \n2         SNSD  South Korea      163      50  San Francisco       F   \n3         SNSD  South Korea      158      48        Incheon       F   \n4         SNSD  South Korea      167      45         Goyang       F   \n...        ...          ...      ...     ...            ...     ...   \n1661  NewJeans  South Korea      169       0       Yeongwol       F   \n1662  NewJeans      Vietnam      162       0      Melbourne       F   \n1663  NewJeans  South Korea      165       0         Munsan       F   \n1664  NewJeans  South Korea      165       0       Gimcheon       F   \n1665  NewJeans  South Korea      170       0        Incheon       F   \n\n         Instagram  \n0       taeyeon_ss  \n1       svnnynight  \n2     xolovestephi  \n3      watasiwahyo  \n4          yulyulk  \n...            ...  \n1661           NaN  \n1662           NaN  \n1663           NaN  \n1664           NaN  \n1665           NaN  \n\n[823 rows x 12 columns]",
            "text/html": "<div>\n<style scoped>\n    .dataframe tbody tr th:only-of-type {\n        vertical-align: middle;\n    }\n\n    .dataframe tbody tr th {\n        vertical-align: top;\n    }\n\n    .dataframe thead th {\n        text-align: right;\n    }\n</style>\n<table border=\"1\" class=\"dataframe\">\n  <thead>\n    <tr style=\"text-align: right;\">\n      <th></th>\n      <th>Stage Name</th>\n      <th>Full Name</th>\n      <th>Korean Name</th>\n      <th>K. Stage Name</th>\n      <th>Date of Birth</th>\n      <th>Group</th>\n      <th>Country</th>\n      <th>Height</th>\n      <th>Weight</th>\n      <th>Birthplace</th>\n      <th>Gender</th>\n      <th>Instagram</th>\n    </tr>\n  </thead>\n  <tbody>\n    <tr>\n      <th>0</th>\n      <td>Taeyeon</td>\n      <td>Kim Taeyeon</td>\n      <td>김태연</td>\n      <td>태연</td>\n      <td>3/9/1989</td>\n      <td>SNSD</td>\n      <td>South Korea</td>\n      <td>160</td>\n      <td>44</td>\n      <td>Jeonju</td>\n      <td>F</td>\n      <td>taeyeon_ss</td>\n    </tr>\n    <tr>\n      <th>1</th>\n      <td>Sunny</td>\n      <td>Lee Sunkyu</td>\n      <td>이순규</td>\n      <td>써니</td>\n      <td>5/15/1989</td>\n      <td>SNSD</td>\n      <td>South Korea</td>\n      <td>158</td>\n      <td>43</td>\n      <td>California</td>\n      <td>F</td>\n      <td>svnnynight</td>\n    </tr>\n    <tr>\n      <th>2</th>\n      <td>Tiffany</td>\n      <td>Hwang Miyoung</td>\n      <td>황미영</td>\n      <td>티파니</td>\n      <td>8/1/1989</td>\n      <td>SNSD</td>\n      <td>South Korea</td>\n      <td>163</td>\n      <td>50</td>\n      <td>San Francisco</td>\n      <td>F</td>\n      <td>xolovestephi</td>\n    </tr>\n    <tr>\n      <th>3</th>\n      <td>Hyoyeon</td>\n      <td>Kim Hyoyeon</td>\n      <td>김효연</td>\n      <td>효연</td>\n      <td>9/22/1989</td>\n      <td>SNSD</td>\n      <td>South Korea</td>\n      <td>158</td>\n      <td>48</td>\n      <td>Incheon</td>\n      <td>F</td>\n      <td>watasiwahyo</td>\n    </tr>\n    <tr>\n      <th>4</th>\n      <td>Yuri</td>\n      <td>Kwon Yuri</td>\n      <td>권유리</td>\n      <td>유리</td>\n      <td>12/5/1989</td>\n      <td>SNSD</td>\n      <td>South Korea</td>\n      <td>167</td>\n      <td>45</td>\n      <td>Goyang</td>\n      <td>F</td>\n      <td>yulyulk</td>\n    </tr>\n    <tr>\n      <th>...</th>\n      <td>...</td>\n      <td>...</td>\n      <td>...</td>\n      <td>...</td>\n      <td>...</td>\n      <td>...</td>\n      <td>...</td>\n      <td>...</td>\n      <td>...</td>\n      <td>...</td>\n      <td>...</td>\n      <td>...</td>\n    </tr>\n    <tr>\n      <th>1661</th>\n      <td>Minji</td>\n      <td>Kim Minji</td>\n      <td>김민지</td>\n      <td>민지</td>\n      <td>5/7/2004</td>\n      <td>NewJeans</td>\n      <td>South Korea</td>\n      <td>169</td>\n      <td>0</td>\n      <td>Yeongwol</td>\n      <td>F</td>\n      <td>NaN</td>\n    </tr>\n    <tr>\n      <th>1662</th>\n      <td>Hanni</td>\n      <td>Pham Ngoc Han</td>\n      <td>팜응옥헌</td>\n      <td>하니</td>\n      <td>10/6/2004</td>\n      <td>NewJeans</td>\n      <td>Vietnam</td>\n      <td>162</td>\n      <td>0</td>\n      <td>Melbourne</td>\n      <td>F</td>\n      <td>NaN</td>\n    </tr>\n    <tr>\n      <th>1663</th>\n      <td>Danielle</td>\n      <td>Mo Jihye</td>\n      <td>모지혜</td>\n      <td>다니엘</td>\n      <td>4/11/2005</td>\n      <td>NewJeans</td>\n      <td>South Korea</td>\n      <td>165</td>\n      <td>0</td>\n      <td>Munsan</td>\n      <td>F</td>\n      <td>NaN</td>\n    </tr>\n    <tr>\n      <th>1664</th>\n      <td>Haerin</td>\n      <td>Kang Haerin</td>\n      <td>강해린</td>\n      <td>해린</td>\n      <td>5/15/2006</td>\n      <td>NewJeans</td>\n      <td>South Korea</td>\n      <td>165</td>\n      <td>0</td>\n      <td>Gimcheon</td>\n      <td>F</td>\n      <td>NaN</td>\n    </tr>\n    <tr>\n      <th>1665</th>\n      <td>Hyein</td>\n      <td>Lee Hyein</td>\n      <td>이혜인</td>\n      <td>혜인</td>\n      <td>4/21/2008</td>\n      <td>NewJeans</td>\n      <td>South Korea</td>\n      <td>170</td>\n      <td>0</td>\n      <td>Incheon</td>\n      <td>F</td>\n      <td>NaN</td>\n    </tr>\n  </tbody>\n</table>\n<p>823 rows × 12 columns</p>\n</div>"
          },
          "metadata": {}
        }
      ]
    },
    {
      "cell_type": "code",
      "source": "#males\nbg=data[data['Gender ']=='M']\nbg.to_csv('boygroups.csv')\nbg.head()",
      "metadata": {
        "trusted": true
      },
      "execution_count": 32,
      "outputs": [
        {
          "execution_count": 32,
          "output_type": "execute_result",
          "data": {
            "text/plain": "    Stage Name       Full Name  Korean Name  K. Stage Name Date of Birth   \\\n247       T.O.P  Choi Seunghyun          최승현             탑      11/4/1987   \n248     Taeyang   Dong Youngbae          동영배            태양      5/18/1988   \n249    G-Dragon     Kwon Jiyong          권지용          지드래곤      8/18/1988   \n250     Daesung         Daesung          강대성            대성      4/26/1989   \n251     Seungri   Lee Seunghyun          이승현            승리     12/12/1990   \n\n      Group      Country   Height   Weight Birthplace  Gender  Instagram  \n247  BIGBANG  South Korea      180      65       Seoul       M       NaN  \n248  BIGBANG  South Korea      174      56   Uljeongbu       M       NaN  \n249  BIGBANG  South Korea      177      58       Seoul       M       NaN  \n250  BIGBANG  South Korea      178      63     Incheon       M       NaN  \n251      NaN  South Korea      176      60     Gwangju       M       NaN  ",
            "text/html": "<div>\n<style scoped>\n    .dataframe tbody tr th:only-of-type {\n        vertical-align: middle;\n    }\n\n    .dataframe tbody tr th {\n        vertical-align: top;\n    }\n\n    .dataframe thead th {\n        text-align: right;\n    }\n</style>\n<table border=\"1\" class=\"dataframe\">\n  <thead>\n    <tr style=\"text-align: right;\">\n      <th></th>\n      <th>Stage Name</th>\n      <th>Full Name</th>\n      <th>Korean Name</th>\n      <th>K. Stage Name</th>\n      <th>Date of Birth</th>\n      <th>Group</th>\n      <th>Country</th>\n      <th>Height</th>\n      <th>Weight</th>\n      <th>Birthplace</th>\n      <th>Gender</th>\n      <th>Instagram</th>\n    </tr>\n  </thead>\n  <tbody>\n    <tr>\n      <th>247</th>\n      <td>T.O.P</td>\n      <td>Choi Seunghyun</td>\n      <td>최승현</td>\n      <td>탑</td>\n      <td>11/4/1987</td>\n      <td>BIGBANG</td>\n      <td>South Korea</td>\n      <td>180</td>\n      <td>65</td>\n      <td>Seoul</td>\n      <td>M</td>\n      <td>NaN</td>\n    </tr>\n    <tr>\n      <th>248</th>\n      <td>Taeyang</td>\n      <td>Dong Youngbae</td>\n      <td>동영배</td>\n      <td>태양</td>\n      <td>5/18/1988</td>\n      <td>BIGBANG</td>\n      <td>South Korea</td>\n      <td>174</td>\n      <td>56</td>\n      <td>Uljeongbu</td>\n      <td>M</td>\n      <td>NaN</td>\n    </tr>\n    <tr>\n      <th>249</th>\n      <td>G-Dragon</td>\n      <td>Kwon Jiyong</td>\n      <td>권지용</td>\n      <td>지드래곤</td>\n      <td>8/18/1988</td>\n      <td>BIGBANG</td>\n      <td>South Korea</td>\n      <td>177</td>\n      <td>58</td>\n      <td>Seoul</td>\n      <td>M</td>\n      <td>NaN</td>\n    </tr>\n    <tr>\n      <th>250</th>\n      <td>Daesung</td>\n      <td>Daesung</td>\n      <td>강대성</td>\n      <td>대성</td>\n      <td>4/26/1989</td>\n      <td>BIGBANG</td>\n      <td>South Korea</td>\n      <td>178</td>\n      <td>63</td>\n      <td>Incheon</td>\n      <td>M</td>\n      <td>NaN</td>\n    </tr>\n    <tr>\n      <th>251</th>\n      <td>Seungri</td>\n      <td>Lee Seunghyun</td>\n      <td>이승현</td>\n      <td>승리</td>\n      <td>12/12/1990</td>\n      <td>NaN</td>\n      <td>South Korea</td>\n      <td>176</td>\n      <td>60</td>\n      <td>Gwangju</td>\n      <td>M</td>\n      <td>NaN</td>\n    </tr>\n  </tbody>\n</table>\n</div>"
          },
          "metadata": {}
        }
      ]
    },
    {
      "cell_type": "code",
      "source": "",
      "metadata": {},
      "execution_count": null,
      "outputs": []
    }
  ]
}